{
 "cells": [
  {
   "cell_type": "code",
   "execution_count": 1,
   "metadata": {
    "collapsed": true
   },
   "outputs": [],
   "source": [
    "import numpy as np\n",
    "import pandas as pd\n",
    "import random\n",
    "import scipy.stats as st\n",
    "import matplotlib.pyplot as plt\n",
    "%matplotlib inline\n",
    "import seaborn as sns\n",
    "import numpy as np"
   ]
  },
  {
   "cell_type": "code",
   "execution_count": 2,
   "metadata": {
    "collapsed": true
   },
   "outputs": [],
   "source": [
    "attack_size = 0.05\n",
    "fs_size = 0.15\n",
    "selected_list = []\n",
    "target_list = []"
   ]
  },
  {
   "cell_type": "code",
   "execution_count": 3,
   "metadata": {
    "collapsed": true
   },
   "outputs": [],
   "source": [
    "column_names = ['user_id', 'item_id', 'rating', 'timestamp']\n",
    "df = pd.read_csv('u.data', sep='\\t', names=column_names)\n",
    "df['item_id'] = df['item_id'] - 1\n",
    "df['user_id'] = df['user_id'] - 1\n",
    "df1 = df\n",
    "random_attack_mean = df['rating'].mean()\n",
    "movie_titles = pd.read_csv(\"Movie_Id_Titles\")\n",
    "movie_titles['item_id']-=1\n",
    "df = pd.merge(df,movie_titles,on='item_id')"
   ]
  },
  {
   "cell_type": "code",
   "execution_count": 4,
   "metadata": {
    "collapsed": true
   },
   "outputs": [],
   "source": [
    "df1['rating'] = df1['rating'] - 3"
   ]
  },
  {
   "cell_type": "code",
   "execution_count": 5,
   "metadata": {
    "collapsed": true
   },
   "outputs": [],
   "source": [
    "user_rating = pd.DataFrame(df.groupby('user_id')['rating'].mean())"
   ]
  },
  {
   "cell_type": "code",
   "execution_count": 6,
   "metadata": {
    "collapsed": true
   },
   "outputs": [],
   "source": [
    "ratings = pd.DataFrame(df.groupby('item_id')['rating'].mean())\n",
    "ratings['num of ratings'] = pd.DataFrame(df.groupby('item_id')['rating'].count())\n",
    "ratings.reset_index(inplace=True)"
   ]
  },
  {
   "cell_type": "code",
   "execution_count": 7,
   "metadata": {
    "collapsed": true
   },
   "outputs": [],
   "source": [
    "n_users = df.user_id.nunique()\n",
    "n_items = df.item_id.nunique()\n",
    "df_matrix = np.zeros((n_users, n_items))\n",
    "for line in df.itertuples():\n",
    "    df_matrix[line[1], line[2]] = line[3]  "
   ]
  },
  {
   "cell_type": "code",
   "execution_count": 8,
   "metadata": {},
   "outputs": [],
   "source": [
    "from sklearn.model_selection import train_test_split\n",
    "train_data, test_data = train_test_split(df1, test_size=0.25,random_state = 101)\n",
    "#Create two user-item matrices, one for training and another for testing\n",
    "train_data_matrix = np.zeros((n_users, n_items))\n",
    "for line in train_data.itertuples():\n",
    "    train_data_matrix[line[1], line[2]] = line[3]\n",
    "\n",
    "test_data_matrix = np.zeros((n_users, n_items))\n",
    "for line in test_data.itertuples():\n",
    "    test_data_matrix[line[1], line[2]] = line[3]"
   ]
  },
  {
   "cell_type": "code",
   "execution_count": 9,
   "metadata": {},
   "outputs": [
    {
     "name": "stdout",
     "output_type": "stream",
     "text": [
      "User-based CF RMSE: 1.3254161873157155\n",
      "Item-based CF RMSE: 1.3773641808147512\n"
     ]
    }
   ],
   "source": [
    "# ORIGINAL \n",
    "from sklearn.metrics.pairwise import pairwise_distances\n",
    "user_similarity = 1 -  pairwise_distances(train_data_matrix, metric='cosine')\n",
    "item_similarity = 1 - pairwise_distances(train_data_matrix.T, metric='cosine')\n",
    "\n",
    "def predict(ratings, similarity, type='user'):\n",
    "    if type == 'user':\n",
    "        mean_user_rating = ratings.mean(axis=1)\n",
    "        #print(mean_user_rating[:, np.newaxis])\n",
    "        #You use np.newaxis so that mean_user_rating has same format as ratings\n",
    "        ratings_diff = ratings - mean_user_rating[:, np.newaxis]\n",
    "        pred = mean_user_rating[:, np.newaxis] + similarity.dot(ratings_diff) / np.array([np.abs(similarity).sum(axis=1)]).T\n",
    "    elif type == 'item':\n",
    "        pred = ratings.dot(similarity) / np.array([np.abs(similarity).sum(axis=1)])     \n",
    "    return pred\n",
    "\n",
    "item_prediction = predict(train_data_matrix, item_similarity, type='item')\n",
    "user_prediction = predict(train_data_matrix, user_similarity, type='user')\n",
    "\n",
    "from sklearn.metrics import mean_squared_error\n",
    "from math import sqrt\n",
    "def rmse(prediction, ground_truth):\n",
    "    prediction = prediction[ground_truth.nonzero()]\n",
    "    ground_truth = ground_truth[ground_truth.nonzero()]\n",
    "    return sqrt(mean_squared_error(prediction, ground_truth))\n",
    "\n",
    "print('User-based CF RMSE: ' + str(rmse(user_prediction, test_data_matrix)))\n",
    "print('Item-based CF RMSE: ' + str(rmse(item_prediction, test_data_matrix)))\n",
    "\n"
   ]
  },
  {
   "cell_type": "code",
   "execution_count": 10,
   "metadata": {
    "collapsed": true
   },
   "outputs": [],
   "source": [
    "def update(attack_matrix):\n",
    "    global rating_map\n",
    "    global random_attack_mean\n",
    "    attack_df = pd.DataFrame(attack_matrix,index=None)\n",
    "    attack_df = attack_df.stack().reset_index()\n",
    "    column_names = ['user_id','item_id','rating']\n",
    "    attack_df.set_axis(axis=1,labels=column_names)\n",
    "    attack_df = attack_df[attack_df['rating']>0]\n",
    "    random_attack_mean = attack_df['rating'].mean()    \n",
    "    ratings = pd.DataFrame(attack_df.groupby('item_id')['rating'].mean())\n",
    "    ratings['num of ratings'] = pd.DataFrame(attack_df.groupby('item_id')['rating'].count())\n",
    "    ratings.reset_index(inplace=True)\n",
    "    rating_map = pd.DataFrame(ratings[['item_id','rating']])\n",
    "    rating_map.set_index('item_id',inplace=True)    "
   ]
  },
  {
   "cell_type": "code",
   "execution_count": 11,
   "metadata": {
    "collapsed": true
   },
   "outputs": [],
   "source": [
    "def random_attack(percentage_profiles,fs,attack_purpose,isBandwagon,rating_matrix,x,y):\n",
    "    global target_list\n",
    "    global random_attack_mean    \n",
    "    target_items = ratings[ratings['num of ratings']<x].sort_values('num of ratings',ascending = False).head(y)\n",
    "    target_list = pd.Series.tolist(target_items['item_id'])\n",
    "    temp_matrix = np.matrix.copy(rating_matrix)\n",
    "    n_users = temp_matrix.shape[0]\n",
    "    n_profiles = round(percentage_profiles*n_users)\n",
    "    temp_matrix.resize((n_users+n_profiles,n_items))\n",
    "    mean_rating = random_attack_mean\n",
    "    fs_size = round(fs*n_items)\n",
    "    for i in range(n_users,n_users+n_profiles):\n",
    "        for j in range(fs_size):\n",
    "            filler_index = random.randint(0,1681)\n",
    "            if filler_index in target_list:\n",
    "                j = j-1\n",
    "            elif (isBandwagon ==1) and filler_index in selected_list:\n",
    "                j = j-1\n",
    "            else:\n",
    "                temp_matrix[i,filler_index]=round(mean_rating)\n",
    "\n",
    "    for i in range(n_users,n_users+n_profiles):\n",
    "        for j in range(len(target_list)):\n",
    "            if attack_purpose=='push':\n",
    "                temp_matrix[i,target_list[j]]=5\n",
    "            else:\n",
    "                temp_matrix[i,target_list[j]]=1\n",
    "    update(temp_matrix)\n",
    "    return temp_matrix   "
   ]
  },
  {
   "cell_type": "code",
   "execution_count": 12,
   "metadata": {
    "collapsed": true
   },
   "outputs": [],
   "source": [
    "def average_attack(percentage_profiles,fs,attack_purpose,isBandwagon,rating_matrix,x,y):\n",
    "    global target_list\n",
    "    target_items = ratings[ratings['num of ratings']<x].sort_values('num of ratings',ascending = False).head(y)\n",
    "    target_list = pd.Series.tolist(target_items['item_id'])\n",
    "    temp_matrix = np.matrix.copy(rating_matrix)\n",
    "    n_users = temp_matrix.shape[0]\n",
    "    n_profiles = round(percentage_profiles*n_users)\n",
    "    temp_matrix.resize((n_users+n_profiles,n_items))\n",
    "    fs_size = round(fs*n_items)\n",
    "    for i in range(n_users,n_users+n_profiles):\n",
    "        for j in range(fs_size):\n",
    "            filler_index = random.randint(0,1681)\n",
    "            if filler_index in target_list:\n",
    "                j = j-1\n",
    "            elif (isBandwagon ==1) and filler_index in selected_list:\n",
    "                j = j-1\n",
    "            else:\n",
    "                temp_matrix[i,filler_index]=  round(pd.Series.tolist(rating_map.loc[(filler_index)])[0]) \n",
    "                \n",
    "    for i in range(n_users,n_users+n_profiles):\n",
    "        for j in range(len(target_list)):\n",
    "            if attack_purpose=='push':\n",
    "                temp_matrix[i,target_list[j]]=5\n",
    "            else:\n",
    "                temp_matrix[i,target_list[j]]=1\n",
    "    update(temp_matrix)\n",
    "    return temp_matrix  "
   ]
  },
  {
   "cell_type": "code",
   "execution_count": 13,
   "metadata": {
    "collapsed": true
   },
   "outputs": [],
   "source": [
    "def bandwagon_attack(percentage_profiles,fs,attack_purpose,bandwagon_attack_type,rating_matrix,x,y):\n",
    "    global selected_list\n",
    "    selected_items_size = pd.Series.tolist(round((0.05*ratings.count())))\n",
    "    selected_items = ratings.sort_values('num of ratings',ascending=False).head(int(selected_items_size[0]*3))\n",
    "    selected_items = selected_items.sort_values('rating',ascending=False).head(int(selected_items_size[0]))\n",
    "    selected_list = pd.Series.tolist(selected_items['item_id'])\n",
    "    if bandwagon_attack_type == 'Average':\n",
    "        bandwagon_attack_matrix = average_attack(percentage_profiles,fs,attack_purpose,1,rating_matrix,x,y)\n",
    "    else:\n",
    "        bandwagon_attack_matrix = random_attack(percentage_profiles,fs,attack_purpose,1,rating_matrix,x,y)    \n",
    "    for i in range(n_users,bandwagon_attack_matrix.shape[0]):\n",
    "        for j in selected_list:\n",
    "            bandwagon_attack_matrix[i,j] = 5\n",
    "    update(bandwagon_attack_matrix)\n",
    "    return bandwagon_attack_matrix   "
   ]
  },
  {
   "cell_type": "code",
   "execution_count": 14,
   "metadata": {
    "collapsed": true
   },
   "outputs": [],
   "source": [
    "rating_map = pd.DataFrame(ratings[['item_id','rating']])\n",
    "rating_map.set_index('item_id',inplace=True)"
   ]
  },
  {
   "cell_type": "code",
   "execution_count": 15,
   "metadata": {
    "collapsed": true
   },
   "outputs": [],
   "source": [
    "random_attack_matrix = random_attack(attack_size,fs_size,'push',0,df_matrix,150,20)"
   ]
  },
  {
   "cell_type": "code",
   "execution_count": 16,
   "metadata": {
    "collapsed": true
   },
   "outputs": [],
   "source": [
    "average_attack_matrix = average_attack(attack_size,fs_size,'push',0,df_matrix,150,20)"
   ]
  },
  {
   "cell_type": "code",
   "execution_count": 17,
   "metadata": {
    "collapsed": true
   },
   "outputs": [],
   "source": [
    "bandwagon_attack_matrix = bandwagon_attack(attack_size,fs_size,'push','Random',df_matrix,150,20)"
   ]
  },
  {
   "cell_type": "code",
   "execution_count": 18,
   "metadata": {
    "collapsed": true
   },
   "outputs": [],
   "source": [
    "def visualization(user_prediction_with_attack,item_prediction_with_attack):\n",
    "    original_user_prediction_list = []\n",
    "    for i in target_list:\n",
    "        temp = []\n",
    "        for j in range(n_users):\n",
    "            temp.append(user_prediction[j,i])\n",
    "        original_user_prediction_list.append(temp)\n",
    "    attack_user_prediction_list = []\n",
    "    for i in target_list:\n",
    "        temp = []\n",
    "        for j in range(n_users):\n",
    "            temp.append(user_prediction_with_attack[j,i])\n",
    "        attack_user_prediction_list.append(temp)\n",
    "    original_item_prediction_list = []\n",
    "    for i in target_list:\n",
    "        temp = []\n",
    "        for j in range(n_users):\n",
    "            temp.append(item_prediction[j,i])\n",
    "        original_item_prediction_list.append(temp)\n",
    "    attack_item_prediction_list = []\n",
    "    for i in target_list:\n",
    "        temp = []\n",
    "        for j in range(n_users):\n",
    "            temp.append(item_prediction_with_attack[j,i])\n",
    "        attack_item_prediction_list.append(temp)\n",
    "    rmse_user_rattack = []\n",
    "    for i in range(20):\n",
    "        rmse_user_rattack.append(sqrt(mean_squared_error(original_user_prediction_list[i],attack_user_prediction_list[i])))\n",
    "    rmse_item_rattack = []\n",
    "    for i in range(20):\n",
    "        rmse_item_rattack.append(sqrt(mean_squared_error(original_item_prediction_list[i],attack_item_prediction_list[i])))\n",
    "    vis = pd.DataFrame(rmse_user_rattack,columns=['User-User CF'])\n",
    "    vis['Item-Item CF']=rmse_item_rattack\n",
    "    vis_matrix = np.zeros((20,2))\n",
    "    for line in vis.itertuples():\n",
    "        vis_matrix[line[0]][0] = line[1]\n",
    "        vis_matrix[line[0]][1] = line[2]\n",
    "    plt.figure(figsize=(12,4),)\n",
    "    plt.hist(vis_matrix, histtype='bar', color=['Red','Green'], stacked=False, fill=True)\n",
    "    plt.xlabel(\"RMSE Values\",fontsize='xx-large')\n",
    "    plt.ylabel(\"Number of target items\",fontsize='xx-large')\n",
    "    plt.title(\"Effect of Shilling Attack on CF models\",fontsize='xx-large')\n",
    "    plt.legend(['User-User CF','Item-Item CF'],fontsize='xx-large')\n",
    "    plt.savefig('visual')"
   ]
  },
  {
   "cell_type": "code",
   "execution_count": 19,
   "metadata": {
    "collapsed": true
   },
   "outputs": [],
   "source": [
    "def error(attack_matrix,attack_type):\n",
    "    attack_df = pd.DataFrame(attack_matrix,index=None)\n",
    "    attack_df = attack_df.stack().reset_index()\n",
    "    column_names = ['user_id','item_id','ratings']\n",
    "    attack_df.set_axis(axis=1,labels=column_names)\n",
    "    attack_df = attack_df[attack_df['ratings']>0]\n",
    "\n",
    "    train_data_attack, test_data_attack = train_test_split(attack_df, test_size=0.25,random_state = 101)\n",
    "    #Create two user-item matrices, one for training and another for testing\n",
    "    attack_matrix_size = attack_matrix.shape\n",
    "    train_data_matrix_attack = np.zeros((attack_matrix_size[0], attack_matrix_size[1]))\n",
    "    for line in train_data.itertuples():\n",
    "        train_data_matrix_attack[line[1], line[2]] = line[3] - 3\n",
    "    test_data_matrix_attack = np.zeros((attack_matrix_size[0], attack_matrix_size[1]))\n",
    "    for line in test_data.itertuples():\n",
    "        test_data_matrix_attack[line[1], line[2]] = line[3] - 3\n",
    "\n",
    "    user_similarity_attack = 1 - pairwise_distances(train_data_matrix_attack, metric='cosine')\n",
    "    item_similarity_attack = 1 - pairwise_distances(train_data_matrix_attack.T, metric='cosine')\n",
    "    item_prediction_with_attack = predict(train_data_matrix_attack, item_similarity_attack, type='item')\n",
    "    user_prediction_with_attack = predict(train_data_matrix_attack, user_similarity_attack, type='user')\n",
    "    visualization(user_prediction_with_attack,item_prediction_with_attack)\n",
    "    print('User-based CF RMSE with '+ attack_type+\": \" + str(rmse(user_prediction_with_attack, test_data_matrix_attack)))\n",
    "    print('Item-based CF RMSE with '+ attack_type + \": \"+ str(rmse(item_prediction_with_attack, test_data_matrix_attack)))"
   ]
  },
  {
   "cell_type": "code",
   "execution_count": 20,
   "metadata": {},
   "outputs": [
    {
     "name": "stdout",
     "output_type": "stream",
     "text": [
      "Model Based CF MSE: 1.2669700050556207\n"
     ]
    }
   ],
   "source": [
    "import scipy.sparse as sp\n",
    "from scipy.sparse.linalg import svds\n",
    "\n",
    "#get SVD components from train matrix. Choose k.\n",
    "u, s, vt = svds(train_data_matrix, k = 20)\n",
    "s_diag_matrix=np.diag(s)\n",
    "X_pred = np.dot(np.dot(u, s_diag_matrix), vt)\n",
    "print('Model Based CF MSE: ' + str(rmse(X_pred, test_data_matrix)))"
   ]
  },
  {
   "cell_type": "code",
   "execution_count": 21,
   "metadata": {
    "collapsed": true
   },
   "outputs": [],
   "source": [
    "def detection(attack_matrix,profile_threshold):\n",
    "    df_temp = np.matrix.copy(attack_matrix)\n",
    "    temp = pd.DataFrame(df_temp.T)\n",
    "    temp.replace(to_replace=0.0,value=np.nan,inplace=True)\n",
    "    corr_df = temp.corr() \n",
    "    shilling_list=[]\n",
    "    for line in corr_df.itertuples():\n",
    "        count = 0\n",
    "        for i in range(1,attack_matrix.shape[0]):\n",
    "            if line[i] >= 0.95:\n",
    "                count+=1\n",
    "        if count >= profile_threshold*df_matrix.shape[0]:\n",
    "            shilling_list.append(line[0])\n",
    "    return shilling_list"
   ]
  },
  {
   "cell_type": "code",
   "execution_count": 22,
   "metadata": {},
   "outputs": [
    {
     "name": "stdout",
     "output_type": "stream",
     "text": [
      "User-based CF RMSE with random: 2.283605884289169\n",
      "Item-based CF RMSE with random: 2.368058219517133\n"
     ]
    },
    {
     "data": {
      "image/png": "[encoded data removed]",
      "text/plain": [
       "<matplotlib.figure.Figure at 0x1163cc668>"
      ]
     },
     "metadata": {},
     "output_type": "display_data"
    }
   ],
   "source": [
    "error(random_attack_matrix,\"random\")"
   ]
  },
  {
   "cell_type": "code",
   "execution_count": 23,
   "metadata": {},
   "outputs": [
    {
     "data": {
      "text/plain": [
       "<matplotlib.text.Text at 0x11388fb38>"
      ]
     },
     "execution_count": 23,
     "metadata": {},
     "output_type": "execute_result"
    },
    {
     "data": {
      "image/png": "[encoded data removed]",
      "text/plain": [
       "<matplotlib.figure.Figure at 0x11b2d9438>"
      ]
     },
     "metadata": {},
     "output_type": "display_data"
    }
   ],
   "source": [
    "attack_size = 0.1\n",
    "attack_sizes = []\n",
    "f_scores = []\n",
    "def f_measure():\n",
    "    global attack_size\n",
    "    for i in range(20):\n",
    "        x = 0.15\n",
    "        temp_random_attack = random_attack(attack_size,fs_size,'push',0,df_matrix,150,20)\n",
    "        temp_shilling_list = detection(temp_random_attack,x)\n",
    "        while(True):\n",
    "            x-=0.01\n",
    "            temp_shilling_list = detection(temp_random_attack,x)\n",
    "            if (not(len(temp_shilling_list)==0)):\n",
    "                break\n",
    "        count = 0\n",
    "        for i in temp_shilling_list:\n",
    "            if i>=944:\n",
    "                count+=1\n",
    "        if(not(count==0)):\n",
    "            precision = count/len(temp_shilling_list)\n",
    "            recall = count/round(attack_size * df_matrix.shape[0])\n",
    "            f_score = 2*precision*recall/(precision+recall)\n",
    "            f_scores.append(f_score)\n",
    "            attack_sizes.append(attack_size)\n",
    "        else:\n",
    "            f_scores.append(0)\n",
    "            attack_sizes.append(attack_size)\n",
    "        attack_size+=0.01\n",
    "\n",
    "f_measure()\n",
    "analysis = pd.DataFrame(attack_sizes,columns=[\"Attack_Size\"])\n",
    "analysis[\"F_Score\"] = f_scores\n",
    "plt.plot(attack_sizes,f_scores)\n",
    "plt.xlabel(\"Attack Size\",fontsize='xx-large')\n",
    "plt.ylabel(\"F-Measure\",fontsize='xx-large')\n",
    "plt.title(\"Effect of Attack Size on F-Measure\",fontsize='xx-large')"
   ]
  },
  {
   "cell_type": "code",
   "execution_count": null,
   "metadata": {
    "collapsed": true
   },
   "outputs": [],
   "source": []
  }
 ],
 "metadata": {
  "kernelspec": {
   "display_name": "Python 3",
   "language": "python",
   "name": "python3"
  },
  "language_info": {
   "codemirror_mode": {
    "name": "ipython",
    "version": 3
   },
   "file_extension": ".py",
   "mimetype": "text/x-python",
   "name": "python",
   "nbconvert_exporter": "python",
   "pygments_lexer": "ipython3",
   "version": "3.6.1"
  }
 },
 "nbformat": 4,
 "nbformat_minor": 2
}
